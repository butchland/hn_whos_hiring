{
 "cells": [
  {
   "cell_type": "raw",
   "id": "5c4b935e-c001-4cda-8fbc-c8ad07ecb429",
   "metadata": {},
   "source": [
    "---\n",
    "title: \"Latest Job Posts Build\"\n",
    "format:\n",
    "  html:\n",
    "    code-fold: false\n",
    "jupyter: python3\n",
    "---"
   ]
  },
  {
   "cell_type": "markdown",
   "id": "65ac87eb-85e4-42e6-9737-b76c1ffabb08",
   "metadata": {},
   "source": [
    "## Latest Job Posts Build"
   ]
  },
  {
   "cell_type": "markdown",
   "id": "320d431a-f3ef-44ae-86c4-c8647c25acb9",
   "metadata": {},
   "source": [
    "> A project to analyze hacker news stories using nbdbt"
   ]
  },
  {
   "cell_type": "code",
   "execution_count": 1,
   "id": "7ffd4a0b-d8c1-4673-a8ef-93ee52cc6c5e",
   "metadata": {},
   "outputs": [],
   "source": [
    "#| echo: false\n",
    "%reload_ext autoreload\n",
    "%autoreload 2"
   ]
  },
  {
   "cell_type": "code",
   "execution_count": 2,
   "id": "f07272f9-4629-4217-9046-3ec248be22db",
   "metadata": {},
   "outputs": [],
   "source": [
    "#| echo: false\n",
    "%matplotlib inline\n",
    "import matplotlib.pyplot as plt"
   ]
  },
  {
   "cell_type": "code",
   "execution_count": 3,
   "id": "d751d066-e467-4437-b88e-682c7ff14aa1",
   "metadata": {},
   "outputs": [],
   "source": [
    "#| echo: false\n",
    "%reload_ext nbdbt.dbt_cellmagic"
   ]
  },
  {
   "cell_type": "code",
   "execution_count": 4,
   "id": "e92eb716-1aa9-4457-b193-1ff03d709773",
   "metadata": {
    "tags": []
   },
   "outputs": [],
   "source": [
    "#| echo: false\n",
    "%dbtconfig -p ../hn_whos_hiring -n notebooks/latest_job_posts_build.ipynb"
   ]
  },
  {
   "cell_type": "markdown",
   "id": "7d6f24c0-8915-4694-9a48-030b74d1226a",
   "metadata": {},
   "source": [
    "### How to filter only articles with whos hiring within the last 6 months (see whos_hiring page)\n",
    "> These models will contain only the latest hiring posts (to save storage as well as compute by \n",
    "dealing only with the latest subset of data for hiring posts and job posts)"
   ]
  },
  {
   "cell_type": "code",
   "execution_count": 5,
   "id": "4dece01f-205f-4506-82bf-07f229fdf251",
   "metadata": {},
   "outputs": [],
   "source": [
    "%%dbt -a latest_whos_hiring  models/latest_whos_hiring_articles.sql\n",
    "{{ config(materialized='table') }}\n",
    "-- select from last 6 months (assuming monthly cadence)\n",
    "select *\n",
    "from {{ ref('whos_hiring_articles') }}\n",
    "order by submit_timestamp desc\n",
    "limit 6 "
   ]
  },
  {
   "cell_type": "code",
   "execution_count": null,
   "id": "04b7ddbd-adf4-4519-9d1d-1ae460129932",
   "metadata": {},
   "outputs": [],
   "source": [
    "# %cd ../hn_whos_hiring\n",
    "# !dbt run -s models/latest_whos_hiring_articles.sql\n",
    "# %cd ../notebooks"
   ]
  },
  {
   "cell_type": "code",
   "execution_count": 6,
   "id": "a15b9a5c-1db1-47df-873d-40543ff961fc",
   "metadata": {},
   "outputs": [
    {
     "data": {
      "text/html": [
       "<div>\n",
       "<style scoped>\n",
       "    .dataframe tbody tr th:only-of-type {\n",
       "        vertical-align: middle;\n",
       "    }\n",
       "\n",
       "    .dataframe tbody tr th {\n",
       "        vertical-align: top;\n",
       "    }\n",
       "\n",
       "    .dataframe thead th {\n",
       "        text-align: right;\n",
       "    }\n",
       "</style>\n",
       "<table border=\"1\" class=\"dataframe\">\n",
       "  <thead>\n",
       "    <tr style=\"text-align: right;\">\n",
       "      <th></th>\n",
       "      <th>post_id</th>\n",
       "      <th>title</th>\n",
       "      <th>url</th>\n",
       "      <th>submitter_id</th>\n",
       "      <th>content</th>\n",
       "      <th>submit_timestamp</th>\n",
       "      <th>dead</th>\n",
       "      <th>post_score</th>\n",
       "      <th>parent_id</th>\n",
       "      <th>post_type</th>\n",
       "      <th>ranking</th>\n",
       "      <th>deleted</th>\n",
       "      <th>descendants</th>\n",
       "    </tr>\n",
       "  </thead>\n",
       "  <tbody>\n",
       "    <tr>\n",
       "      <th>0</th>\n",
       "      <td>32306920</td>\n",
       "      <td>Ask HN: Who is hiring? (August 2022)</td>\n",
       "      <td>None</td>\n",
       "      <td>whoishiring</td>\n",
       "      <td>Please state the location and include REMOTE, ...</td>\n",
       "      <td>2022-08-01 15:01:33+00:00</td>\n",
       "      <td>False</td>\n",
       "      <td>446</td>\n",
       "      <td>NaN</td>\n",
       "      <td>story</td>\n",
       "      <td>NaN</td>\n",
       "      <td>None</td>\n",
       "      <td>769</td>\n",
       "    </tr>\n",
       "    <tr>\n",
       "      <th>1</th>\n",
       "      <td>31947297</td>\n",
       "      <td>Ask HN: Who is hiring? (July 2022)</td>\n",
       "      <td>None</td>\n",
       "      <td>whoishiring</td>\n",
       "      <td>Please state the location and include REMOTE, ...</td>\n",
       "      <td>2022-07-01 15:00:14+00:00</td>\n",
       "      <td>False</td>\n",
       "      <td>328</td>\n",
       "      <td>NaN</td>\n",
       "      <td>story</td>\n",
       "      <td>NaN</td>\n",
       "      <td>None</td>\n",
       "      <td>620</td>\n",
       "    </tr>\n",
       "    <tr>\n",
       "      <th>2</th>\n",
       "      <td>31582796</td>\n",
       "      <td>Ask HN: Who is hiring? (June 2022)</td>\n",
       "      <td>None</td>\n",
       "      <td>whoishiring</td>\n",
       "      <td>Please state the location and include REMOTE, ...</td>\n",
       "      <td>2022-06-01 15:01:51+00:00</td>\n",
       "      <td>False</td>\n",
       "      <td>390</td>\n",
       "      <td>NaN</td>\n",
       "      <td>story</td>\n",
       "      <td>NaN</td>\n",
       "      <td>None</td>\n",
       "      <td>861</td>\n",
       "    </tr>\n",
       "    <tr>\n",
       "      <th>3</th>\n",
       "      <td>31235968</td>\n",
       "      <td>Ask HN: Who is hiring? (May 2022)</td>\n",
       "      <td>None</td>\n",
       "      <td>whoishiring</td>\n",
       "      <td>Please state the location and include REMOTE, ...</td>\n",
       "      <td>2022-05-02 15:01:38+00:00</td>\n",
       "      <td>False</td>\n",
       "      <td>390</td>\n",
       "      <td>NaN</td>\n",
       "      <td>story</td>\n",
       "      <td>NaN</td>\n",
       "      <td>None</td>\n",
       "      <td>851</td>\n",
       "    </tr>\n",
       "    <tr>\n",
       "      <th>4</th>\n",
       "      <td>30878761</td>\n",
       "      <td>Ask HN: Who is hiring? (April 2022)</td>\n",
       "      <td>None</td>\n",
       "      <td>whoishiring</td>\n",
       "      <td>Please state the location and include REMOTE, ...</td>\n",
       "      <td>2022-04-01 15:02:05+00:00</td>\n",
       "      <td>False</td>\n",
       "      <td>264</td>\n",
       "      <td>NaN</td>\n",
       "      <td>story</td>\n",
       "      <td>NaN</td>\n",
       "      <td>None</td>\n",
       "      <td>805</td>\n",
       "    </tr>\n",
       "    <tr>\n",
       "      <th>5</th>\n",
       "      <td>30515750</td>\n",
       "      <td>Ask HN: Who is hiring? (March 2022)</td>\n",
       "      <td>None</td>\n",
       "      <td>whoishiring</td>\n",
       "      <td>Please state the location and include REMOTE, ...</td>\n",
       "      <td>2022-03-01 16:01:56+00:00</td>\n",
       "      <td>False</td>\n",
       "      <td>327</td>\n",
       "      <td>NaN</td>\n",
       "      <td>story</td>\n",
       "      <td>NaN</td>\n",
       "      <td>None</td>\n",
       "      <td>875</td>\n",
       "    </tr>\n",
       "  </tbody>\n",
       "</table>\n",
       "</div>"
      ],
      "text/plain": [
       "    post_id                                 title   url submitter_id  \\\n",
       "0  32306920  Ask HN: Who is hiring? (August 2022)  None  whoishiring   \n",
       "1  31947297    Ask HN: Who is hiring? (July 2022)  None  whoishiring   \n",
       "2  31582796    Ask HN: Who is hiring? (June 2022)  None  whoishiring   \n",
       "3  31235968     Ask HN: Who is hiring? (May 2022)  None  whoishiring   \n",
       "4  30878761   Ask HN: Who is hiring? (April 2022)  None  whoishiring   \n",
       "5  30515750   Ask HN: Who is hiring? (March 2022)  None  whoishiring   \n",
       "\n",
       "                                             content  \\\n",
       "0  Please state the location and include REMOTE, ...   \n",
       "1  Please state the location and include REMOTE, ...   \n",
       "2  Please state the location and include REMOTE, ...   \n",
       "3  Please state the location and include REMOTE, ...   \n",
       "4  Please state the location and include REMOTE, ...   \n",
       "5  Please state the location and include REMOTE, ...   \n",
       "\n",
       "           submit_timestamp   dead  post_score  parent_id post_type  ranking  \\\n",
       "0 2022-08-01 15:01:33+00:00  False         446        NaN     story      NaN   \n",
       "1 2022-07-01 15:00:14+00:00  False         328        NaN     story      NaN   \n",
       "2 2022-06-01 15:01:51+00:00  False         390        NaN     story      NaN   \n",
       "3 2022-05-02 15:01:38+00:00  False         390        NaN     story      NaN   \n",
       "4 2022-04-01 15:02:05+00:00  False         264        NaN     story      NaN   \n",
       "5 2022-03-01 16:01:56+00:00  False         327        NaN     story      NaN   \n",
       "\n",
       "  deleted  descendants  \n",
       "0    None          769  \n",
       "1    None          620  \n",
       "2    None          861  \n",
       "3    None          851  \n",
       "4    None          805  \n",
       "5    None          875  "
      ]
     },
     "execution_count": 6,
     "metadata": {},
     "output_type": "execute_result"
    }
   ],
   "source": [
    "latest_whos_hiring.ref()"
   ]
  },
  {
   "cell_type": "markdown",
   "id": "d28b98dd-2e81-426a-8661-cbc439c8a9c4",
   "metadata": {},
   "source": [
    "### Filter job posts for latest whos hiring only"
   ]
  },
  {
   "cell_type": "code",
   "execution_count": 7,
   "id": "dafde7e0-46d4-4b34-98e3-7da39769c1bc",
   "metadata": {},
   "outputs": [],
   "source": [
    "%%dbt -a latest_job_posts models/latest_job_posts.sql\n",
    "{{ config(materialized='table') }}\n",
    "-- select from last 6 months (assuming monthly cadence)\n",
    "with latest_hiring as\n",
    "( select post_id,\n",
    "  from {{ ref('latest_whos_hiring_articles') }}\n",
    "),\n",
    "latest_job_posts as \n",
    "(\n",
    "  select p.*\n",
    "  from {{ ref('hn_posts') }} p\n",
    "  inner join latest_hiring h\n",
    "  on p.parent_id = h.post_id\n",
    ")\n",
    "select *  \n",
    "from latest_job_posts"
   ]
  },
  {
   "cell_type": "code",
   "execution_count": 8,
   "id": "5a59dab2-82bc-4d62-8df9-e1227e3d3e89",
   "metadata": {},
   "outputs": [
    {
     "name": "stdout",
     "output_type": "stream",
     "text": [
      "/home/butch2/play/experiments/hn_whos_hiring/notebooks\n",
      "13:56:26  Running with dbt=1.1.1\n",
      "13:56:26  Found 5 models, 0 tests, 0 snapshots, 15 analyses, 191 macros, 0 operations, 0 seed files, 1 source, 0 exposures, 0 metrics\n",
      "13:56:26  \n",
      "13:56:27  Concurrency: 1 threads (target='dev')\n",
      "13:56:27  \n",
      "13:56:28  1 of 1 START table model 00dev.latest_job_posts ................................ [RUN]\n",
      "13:56:33  1 of 1 OK created table model 00dev.latest_job_posts ........................... [\u001b[32mCREATE TABLE (4.5k rows, 11.9 GB processed)\u001b[0m in 5.02s]\n",
      "13:56:33  \n",
      "13:56:33  Finished running 1 table model in 6.47s.\n",
      "13:56:33  \n",
      "13:56:33  \u001b[32mCompleted successfully\u001b[0m\n",
      "13:56:33  \n",
      "13:56:33  Done. PASS=1 WARN=0 ERROR=0 SKIP=0 TOTAL=1\n",
      "/home/butch2/play/experiments/hn_whos_hiring/notebooks\n"
     ]
    }
   ],
   "source": [
    "# %cd ../hn_whos_hiring\n",
    "# !dbt run -s models/latest_job_posts.sql\n",
    "# %cd ../notebooks"
   ]
  },
  {
   "cell_type": "code",
   "execution_count": 9,
   "id": "357c8aba-c84a-46e2-962c-13732d249e6d",
   "metadata": {},
   "outputs": [],
   "source": [
    "jobs_df = latest_job_posts.ref(limit=100)"
   ]
  },
  {
   "cell_type": "code",
   "execution_count": 10,
   "id": "2acf09fd-52ca-40c0-9390-869d19a0f349",
   "metadata": {},
   "outputs": [
    {
     "data": {
      "text/html": [
       "<div>\n",
       "<style scoped>\n",
       "    .dataframe tbody tr th:only-of-type {\n",
       "        vertical-align: middle;\n",
       "    }\n",
       "\n",
       "    .dataframe tbody tr th {\n",
       "        vertical-align: top;\n",
       "    }\n",
       "\n",
       "    .dataframe thead th {\n",
       "        text-align: right;\n",
       "    }\n",
       "</style>\n",
       "<table border=\"1\" class=\"dataframe\">\n",
       "  <thead>\n",
       "    <tr style=\"text-align: right;\">\n",
       "      <th></th>\n",
       "      <th>post_id</th>\n",
       "      <th>title</th>\n",
       "      <th>url</th>\n",
       "      <th>submitter_id</th>\n",
       "      <th>content</th>\n",
       "      <th>submit_timestamp</th>\n",
       "      <th>dead</th>\n",
       "      <th>post_score</th>\n",
       "      <th>parent_id</th>\n",
       "      <th>post_type</th>\n",
       "      <th>ranking</th>\n",
       "      <th>deleted</th>\n",
       "      <th>descendants</th>\n",
       "    </tr>\n",
       "  </thead>\n",
       "  <tbody>\n",
       "    <tr>\n",
       "      <th>0</th>\n",
       "      <td>30607463</td>\n",
       "      <td>None</td>\n",
       "      <td>None</td>\n",
       "      <td>charlottewan</td>\n",
       "      <td>Current | Fintech | New York City (US) | Full ...</td>\n",
       "      <td>2022-03-08 21:38:33+00:00</td>\n",
       "      <td>False</td>\n",
       "      <td>NaN</td>\n",
       "      <td>30515750</td>\n",
       "      <td>comment</td>\n",
       "      <td>NaN</td>\n",
       "      <td>None</td>\n",
       "      <td>NaN</td>\n",
       "    </tr>\n",
       "    <tr>\n",
       "      <th>1</th>\n",
       "      <td>30517402</td>\n",
       "      <td>None</td>\n",
       "      <td>None</td>\n",
       "      <td>taline</td>\n",
       "      <td>1build | YC 2019 | Staff Software Engineer + M...</td>\n",
       "      <td>2022-03-01 17:53:17+00:00</td>\n",
       "      <td>False</td>\n",
       "      <td>NaN</td>\n",
       "      <td>30515750</td>\n",
       "      <td>comment</td>\n",
       "      <td>NaN</td>\n",
       "      <td>None</td>\n",
       "      <td>NaN</td>\n",
       "    </tr>\n",
       "    <tr>\n",
       "      <th>2</th>\n",
       "      <td>31236564</td>\n",
       "      <td>None</td>\n",
       "      <td>None</td>\n",
       "      <td>cgvagenas</td>\n",
       "      <td>Disney Streaming | Mid&amp;#x2F;Sr. Software Engin...</td>\n",
       "      <td>2022-05-02 15:39:28+00:00</td>\n",
       "      <td>False</td>\n",
       "      <td>NaN</td>\n",
       "      <td>31235968</td>\n",
       "      <td>comment</td>\n",
       "      <td>NaN</td>\n",
       "      <td>None</td>\n",
       "      <td>NaN</td>\n",
       "    </tr>\n",
       "    <tr>\n",
       "      <th>3</th>\n",
       "      <td>31236566</td>\n",
       "      <td>None</td>\n",
       "      <td>None</td>\n",
       "      <td>ineptech</td>\n",
       "      <td>InComm | Engineering Manager &amp;#x2F; Dev Manage...</td>\n",
       "      <td>2022-05-02 15:39:48+00:00</td>\n",
       "      <td>False</td>\n",
       "      <td>NaN</td>\n",
       "      <td>31235968</td>\n",
       "      <td>comment</td>\n",
       "      <td>NaN</td>\n",
       "      <td>None</td>\n",
       "      <td>NaN</td>\n",
       "    </tr>\n",
       "    <tr>\n",
       "      <th>4</th>\n",
       "      <td>31236562</td>\n",
       "      <td>None</td>\n",
       "      <td>None</td>\n",
       "      <td>mikikian</td>\n",
       "      <td>CourtDrive | Senior Perl Developer | REMOTE| M...</td>\n",
       "      <td>2022-05-02 15:39:22+00:00</td>\n",
       "      <td>False</td>\n",
       "      <td>NaN</td>\n",
       "      <td>31235968</td>\n",
       "      <td>comment</td>\n",
       "      <td>NaN</td>\n",
       "      <td>None</td>\n",
       "      <td>NaN</td>\n",
       "    </tr>\n",
       "  </tbody>\n",
       "</table>\n",
       "</div>"
      ],
      "text/plain": [
       "    post_id title   url  submitter_id  \\\n",
       "0  30607463  None  None  charlottewan   \n",
       "1  30517402  None  None        taline   \n",
       "2  31236564  None  None     cgvagenas   \n",
       "3  31236566  None  None      ineptech   \n",
       "4  31236562  None  None      mikikian   \n",
       "\n",
       "                                             content  \\\n",
       "0  Current | Fintech | New York City (US) | Full ...   \n",
       "1  1build | YC 2019 | Staff Software Engineer + M...   \n",
       "2  Disney Streaming | Mid&#x2F;Sr. Software Engin...   \n",
       "3  InComm | Engineering Manager &#x2F; Dev Manage...   \n",
       "4  CourtDrive | Senior Perl Developer | REMOTE| M...   \n",
       "\n",
       "           submit_timestamp   dead  post_score  parent_id post_type  ranking  \\\n",
       "0 2022-03-08 21:38:33+00:00  False         NaN   30515750   comment      NaN   \n",
       "1 2022-03-01 17:53:17+00:00  False         NaN   30515750   comment      NaN   \n",
       "2 2022-05-02 15:39:28+00:00  False         NaN   31235968   comment      NaN   \n",
       "3 2022-05-02 15:39:48+00:00  False         NaN   31235968   comment      NaN   \n",
       "4 2022-05-02 15:39:22+00:00  False         NaN   31235968   comment      NaN   \n",
       "\n",
       "  deleted  descendants  \n",
       "0    None          NaN  \n",
       "1    None          NaN  \n",
       "2    None          NaN  \n",
       "3    None          NaN  \n",
       "4    None          NaN  "
      ]
     },
     "execution_count": 10,
     "metadata": {},
     "output_type": "execute_result"
    }
   ],
   "source": [
    "jobs_df.head()"
   ]
  },
  {
   "cell_type": "code",
   "execution_count": 13,
   "id": "176ce02d-9022-43f0-8801-4c6e0456c762",
   "metadata": {},
   "outputs": [],
   "source": [
    "import html"
   ]
  },
  {
   "cell_type": "code",
   "execution_count": 20,
   "id": "d6d8c33d-9635-4865-9207-7c069f497d49",
   "metadata": {},
   "outputs": [],
   "source": [
    "from bs4 import BeautifulSoup\n",
    "import re"
   ]
  },
  {
   "cell_type": "code",
   "execution_count": 20,
   "id": "a4006cfb-d60a-4542-bec7-210472d627e2",
   "metadata": {},
   "outputs": [],
   "source": [
    "def html_to_text(html): # https://python.hotexamples.com/examples/bs4/BeautifulSoup/strip/python-beautifulsoup-strip-method-examples.html#0xd95fc8f3bead4ee436033a38ce9788cca28b74bac5a0be60d5b34fd0b457f102-33,,39,\n",
    "    # Hack to prevent Beautiful Soup from collapsing space-keeping tags\n",
    "    # until no whitespace remains at all\n",
    "    html = re.sub(\"<(br|p|li)\", \" \\\\g<0>\", html, flags=re.IGNORECASE)\n",
    "    text = BeautifulSoup(html, \"html.parser\").get_text()\n",
    "    # Idea from http://stackoverflow.com/a/1546251\n",
    "    return \" \".join(text.strip().split())"
   ]
  },
  {
   "cell_type": "code",
   "execution_count": 12,
   "id": "bffefe42-2ee0-4220-87f2-3c01913c0799",
   "metadata": {},
   "outputs": [
    {
     "data": {
      "text/plain": [
       "'Current | Fintech | New York City (US) | Full Time |<a href=\"https:&#x2F;&#x2F;current.com&#x2F;careers&#x2F;\" rel=\"nofollow\">https:&#x2F;&#x2F;current.com&#x2F;careers&#x2F;</a><p>Current is a leading U.S. financial technology platform serving the needs of Americans who are working to create a better future for themselves. Our mission is to enable members to change their lives by creating better financial outcomes.<p>We’ve raised over $400 million in funding, backed by investments from Andreessen Horowitz, Tiger Global Management, TQ Ventures, Avenir, Sapphire Ventures, Foundation Capital, Wellington Management, QED Investors, and EXPA.<p>No matter your title, we welcome everyone at Current to build great products, grow quickly, and make an impact with us.<p>Featured Roles:\\nBackend Engineer: <a href=\"https:&#x2F;&#x2F;grnh.se&#x2F;b30f29331us\" rel=\"nofollow\">https:&#x2F;&#x2F;grnh.se&#x2F;b30f29331us</a> \\niOS Engineer: <a href=\"https:&#x2F;&#x2F;grnh.se&#x2F;62b81e071us\" rel=\"nofollow\">https:&#x2F;&#x2F;grnh.se&#x2F;62b81e071us</a> \\nAndroid Engineer: <a href=\"https:&#x2F;&#x2F;grnh.se&#x2F;26f763531us\" rel=\"nofollow\">https:&#x2F;&#x2F;grnh.se&#x2F;26f763531us</a> \\nQA Engineer: <a href=\"https:&#x2F;&#x2F;grnh.se&#x2F;877dd6061us\" rel=\"nofollow\">https:&#x2F;&#x2F;grnh.se&#x2F;877dd6061us</a><p>Check out other roles at <a href=\"https:&#x2F;&#x2F;grnh.se&#x2F;1686fb701us\" rel=\"nofollow\">https:&#x2F;&#x2F;grnh.se&#x2F;1686fb701us</a>'"
      ]
     },
     "execution_count": 12,
     "metadata": {},
     "output_type": "execute_result"
    }
   ],
   "source": [
    "content0 = jobs_df.iloc[0].content; content0"
   ]
  },
  {
   "cell_type": "code",
   "execution_count": 16,
   "id": "654eab2e-dd32-46d2-a240-7b5b627eb646",
   "metadata": {},
   "outputs": [
    {
     "data": {
      "text/plain": [
       "'Current | Fintech | New York City (US) | Full Time |<a href=\"https://current.com/careers/\" rel=\"nofollow\">https://current.com/careers/</a><p>Current is a leading U.S. financial technology platform serving the needs of Americans who are working to create a better future for themselves. Our mission is to enable members to change their lives by creating better financial outcomes.<p>We’ve raised over $400 million in funding, backed by investments from Andreessen Horowitz, Tiger Global Management, TQ Ventures, Avenir, Sapphire Ventures, Foundation Capital, Wellington Management, QED Investors, and EXPA.<p>No matter your title, we welcome everyone at Current to build great products, grow quickly, and make an impact with us.<p>Featured Roles:\\nBackend Engineer: <a href=\"https://grnh.se/b30f29331us\" rel=\"nofollow\">https://grnh.se/b30f29331us</a> \\niOS Engineer: <a href=\"https://grnh.se/62b81e071us\" rel=\"nofollow\">https://grnh.se/62b81e071us</a> \\nAndroid Engineer: <a href=\"https://grnh.se/26f763531us\" rel=\"nofollow\">https://grnh.se/26f763531us</a> \\nQA Engineer: <a href=\"https://grnh.se/877dd6061us\" rel=\"nofollow\">https://grnh.se/877dd6061us</a><p>Check out other roles at <a href=\"https://grnh.se/1686fb701us\" rel=\"nofollow\">https://grnh.se/1686fb701us</a>'"
      ]
     },
     "execution_count": 16,
     "metadata": {},
     "output_type": "execute_result"
    }
   ],
   "source": [
    "hcontent0 = html.unescape(content0); hcontent0"
   ]
  },
  {
   "cell_type": "markdown",
   "id": "b057c6c6-ee2e-4956-844b-048900673c38",
   "metadata": {},
   "source": [
    "`html_to_text` is a slightly modified example from [python.hotexamples](https://python.hotexamples.com/examples/bs4/BeautifulSoup/strip/python-beautifulsoup-strip-method-examples.html#0xd95fc8f3bead4ee436033a38ce9788cca28b74bac5a0be60d5b34fd0b457f102-33,,39,)"
   ]
  },
  {
   "cell_type": "code",
   "execution_count": 22,
   "id": "4aadbffc-4e59-4c88-a0bc-b8334464fb9f",
   "metadata": {},
   "outputs": [
    {
     "data": {
      "text/plain": [
       "'Current | Fintech | New York City (US) | Full Time |https://current.com/careers/ Current is a leading U.S. financial technology platform serving the needs of Americans who are working to create a better future for themselves. Our mission is to enable members to change their lives by creating better financial outcomes. We’ve raised over $400 million in funding, backed by investments from Andreessen Horowitz, Tiger Global Management, TQ Ventures, Avenir, Sapphire Ventures, Foundation Capital, Wellington Management, QED Investors, and EXPA. No matter your title, we welcome everyone at Current to build great products, grow quickly, and make an impact with us. Featured Roles: Backend Engineer: https://grnh.se/b30f29331us iOS Engineer: https://grnh.se/62b81e071us Android Engineer: https://grnh.se/26f763531us QA Engineer: https://grnh.se/877dd6061us Check out other roles at https://grnh.se/1686fb701us'"
      ]
     },
     "execution_count": 22,
     "metadata": {},
     "output_type": "execute_result"
    }
   ],
   "source": [
    "text_content = html_to_text(hcontent0); text_content"
   ]
  },
  {
   "cell_type": "code",
   "execution_count": 23,
   "id": "04be307b-2d9d-40b5-b1fd-1557099946e6",
   "metadata": {},
   "outputs": [
    {
     "data": {
      "text/plain": [
       "['Current ', ' Fintech ', ' New York City (US) ', ' Full Time ']"
      ]
     },
     "execution_count": 23,
     "metadata": {},
     "output_type": "execute_result"
    }
   ],
   "source": [
    "fields = text_content.split('|'); fields[0:4]"
   ]
  },
  {
   "cell_type": "code",
   "execution_count": 24,
   "id": "4fa40016-7ceb-4559-b4a6-4094f81ff581",
   "metadata": {},
   "outputs": [
    {
     "data": {
      "text/plain": [
       "'https://current.com/careers/ Current is a leading U.S. financial technology platform serving the needs of Americans who are working to create a better future for themselves. Our mission is to enable members to change their lives by creating better financial outcomes. We’ve raised over $400 million in funding, backed by investments from Andreessen Horowitz, Tiger Global Management, TQ Ventures, Avenir, Sapphire Ventures, Foundation Capital, Wellington Management, QED Investors, and EXPA. No matter your title, we welcome everyone at Current to build great products, grow quickly, and make an impact with us. Featured Roles: Backend Engineer: https://grnh.se/b30f29331us iOS Engineer: https://grnh.se/62b81e071us Android Engineer: https://grnh.se/26f763531us QA Engineer: https://grnh.se/877dd6061us Check out other roles at https://grnh.se/1686fb701us'"
      ]
     },
     "execution_count": 24,
     "metadata": {},
     "output_type": "execute_result"
    }
   ],
   "source": [
    "fields[4]"
   ]
  },
  {
   "cell_type": "code",
   "execution_count": 27,
   "id": "bdf684fe-0492-4732-ba57-7f12a49ee017",
   "metadata": {},
   "outputs": [
    {
     "data": {
      "text/plain": [
       "['Current', 'Fintech', 'New York City (US)', 'Full Time']"
      ]
     },
     "execution_count": 27,
     "metadata": {},
     "output_type": "execute_result"
    }
   ],
   "source": [
    "fixed_fields = [f.strip() for f in fields]; fixed_fields[0:4]"
   ]
  },
  {
   "cell_type": "code",
   "execution_count": 28,
   "id": "e775ebb7-1cc5-4eab-a775-3a8e36eb7c8d",
   "metadata": {},
   "outputs": [
    {
     "data": {
      "text/plain": [
       "'https://current.com/careers/ Current is a leading U.S. financial technology platform serving the needs of Americans who are working to create a better future for themselves. Our mission is to enable members to change their lives by creating better financial outcomes. We’ve raised over $400 million in funding, backed by investments from Andreessen Horowitz, Tiger Global Management, TQ Ventures, Avenir, Sapphire Ventures, Foundation Capital, Wellington Management, QED Investors, and EXPA. No matter your title, we welcome everyone at Current to build great products, grow quickly, and make an impact with us. Featured Roles: Backend Engineer: https://grnh.se/b30f29331us iOS Engineer: https://grnh.se/62b81e071us Android Engineer: https://grnh.se/26f763531us QA Engineer: https://grnh.se/877dd6061us Check out other roles at https://grnh.se/1686fb701us'"
      ]
     },
     "execution_count": 28,
     "metadata": {},
     "output_type": "execute_result"
    }
   ],
   "source": [
    "fixed_fields[4]"
   ]
  },
  {
   "cell_type": "code",
   "execution_count": 30,
   "id": "9d53e1b6-4100-4fc0-99ce-39f52b556517",
   "metadata": {},
   "outputs": [],
   "source": [
    "# strip out urls\n",
    "url_matcher = r'https?:\\/\\/[\\S]+'"
   ]
  },
  {
   "cell_type": "code",
   "execution_count": 32,
   "id": "4022fb56-2c55-44a0-a5ff-3b3a58571812",
   "metadata": {},
   "outputs": [
    {
     "data": {
      "text/plain": [
       "['https://current.com/careers/',\n",
       " 'https://grnh.se/b30f29331us',\n",
       " 'https://grnh.se/62b81e071us',\n",
       " 'https://grnh.se/26f763531us',\n",
       " 'https://grnh.se/877dd6061us',\n",
       " 'https://grnh.se/1686fb701us']"
      ]
     },
     "execution_count": 32,
     "metadata": {},
     "output_type": "execute_result"
    }
   ],
   "source": [
    "links = re.findall(url_matcher, fixed_fields[4]); links"
   ]
  },
  {
   "cell_type": "code",
   "execution_count": 34,
   "id": "7f4683da-d3b2-4521-aa97-21d08281a1e3",
   "metadata": {},
   "outputs": [
    {
     "data": {
      "text/plain": [
       "' Current is a leading U.S. financial technology platform serving the needs of Americans who are working to create a better future for themselves. Our mission is to enable members to change their lives by creating better financial outcomes. We’ve raised over $400 million in funding, backed by investments from Andreessen Horowitz, Tiger Global Management, TQ Ventures, Avenir, Sapphire Ventures, Foundation Capital, Wellington Management, QED Investors, and EXPA. No matter your title, we welcome everyone at Current to build great products, grow quickly, and make an impact with us. Featured Roles: Backend Engineer:  iOS Engineer:  Android Engineer:  QA Engineer:  Check out other roles at '"
      ]
     },
     "execution_count": 34,
     "metadata": {},
     "output_type": "execute_result"
    }
   ],
   "source": [
    "clear_text = re.sub(url_matcher,'',fixed_fields[4]);clear_text"
   ]
  },
  {
   "cell_type": "code",
   "execution_count": 35,
   "id": "b45c0720-a7d7-4ffe-b653-4b8b0500f531",
   "metadata": {},
   "outputs": [
    {
     "data": {
      "text/plain": [
       "'__LINK_TOKEN__ Current is a leading U.S. financial technology platform serving the needs of Americans who are working to create a better future for themselves. Our mission is to enable members to change their lives by creating better financial outcomes. We’ve raised over $400 million in funding, backed by investments from Andreessen Horowitz, Tiger Global Management, TQ Ventures, Avenir, Sapphire Ventures, Foundation Capital, Wellington Management, QED Investors, and EXPA. No matter your title, we welcome everyone at Current to build great products, grow quickly, and make an impact with us. Featured Roles: Backend Engineer: __LINK_TOKEN__ iOS Engineer: __LINK_TOKEN__ Android Engineer: __LINK_TOKEN__ QA Engineer: __LINK_TOKEN__ Check out other roles at __LINK_TOKEN__'"
      ]
     },
     "execution_count": 35,
     "metadata": {},
     "output_type": "execute_result"
    }
   ],
   "source": [
    "linked_token_text = re.sub(url_matcher,'__LINK_TOKEN__',fixed_fields[4]); linked_token_text"
   ]
  },
  {
   "cell_type": "code",
   "execution_count": 30,
   "id": "6d0bd170-f0f1-4b35-93a2-a256c625348e",
   "metadata": {},
   "outputs": [],
   "source": [
    "# strip out urls\n",
    "url_matcher = r'https?:\\/\\/[\\S]+'"
   ]
  },
  {
   "cell_type": "code",
   "execution_count": null,
   "id": "b79d2115-2c7e-46fa-afde-59e72c678f61",
   "metadata": {},
   "outputs": [],
   "source": []
  },
  {
   "cell_type": "code",
   "execution_count": null,
   "id": "c698d624-6490-4b9e-b2f0-8fd919ebf518",
   "metadata": {},
   "outputs": [],
   "source": [
    "content0 = jobs_df.iloc[0].content; content0"
   ]
  },
  {
   "cell_type": "code",
   "execution_count": null,
   "id": "a2a1d3d1-679d-404a-b7be-949cf683fce3",
   "metadata": {},
   "outputs": [],
   "source": [
    "hcontent0 = html.unescape(content0); hcontent0"
   ]
  },
  {
   "cell_type": "code",
   "execution_count": null,
   "id": "acc8ce88-508d-4d42-950d-2a7e7cc6b4ff",
   "metadata": {},
   "outputs": [],
   "source": [
    "text_content = html_to_text(hcontent0); text_content"
   ]
  },
  {
   "cell_type": "code",
   "execution_count": null,
   "id": "5d922351-555a-4d0a-a700-6f08bdd8aa3d",
   "metadata": {},
   "outputs": [],
   "source": [
    "fields = text_content.split('|'); fields[0:4]"
   ]
  },
  {
   "cell_type": "code",
   "execution_count": null,
   "id": "c65bc5b1-5b36-4a8e-9ee6-79ee18bd4cb4",
   "metadata": {},
   "outputs": [],
   "source": [
    "fields[4]"
   ]
  },
  {
   "cell_type": "code",
   "execution_count": null,
   "id": "b2f43f9c-c820-4bef-8f59-cbbd92009745",
   "metadata": {},
   "outputs": [],
   "source": [
    "fixed_fields = [f.strip() for f in fields]; fixed_fields[0:4]"
   ]
  },
  {
   "cell_type": "code",
   "execution_count": null,
   "id": "ed19a209-19db-4d98-8489-e5eb9134771c",
   "metadata": {},
   "outputs": [],
   "source": [
    "fixed_fields[4]"
   ]
  },
  {
   "cell_type": "code",
   "execution_count": 32,
   "id": "9db0c930-15b2-4128-b55b-b2d36ac6be12",
   "metadata": {},
   "outputs": [
    {
     "data": {
      "text/plain": [
       "['https://current.com/careers/',\n",
       " 'https://grnh.se/b30f29331us',\n",
       " 'https://grnh.se/62b81e071us',\n",
       " 'https://grnh.se/26f763531us',\n",
       " 'https://grnh.se/877dd6061us',\n",
       " 'https://grnh.se/1686fb701us']"
      ]
     },
     "execution_count": 32,
     "metadata": {},
     "output_type": "execute_result"
    }
   ],
   "source": [
    "links = re.findall(url_matcher, fixed_fields[4]); links"
   ]
  },
  {
   "cell_type": "code",
   "execution_count": null,
   "id": "e5ba9b9b-613d-47c8-8983-f992814b7679",
   "metadata": {},
   "outputs": [],
   "source": [
    "clear_text = re.sub(url_matcher,'',fixed_fields[4]);clear_text"
   ]
  },
  {
   "cell_type": "code",
   "execution_count": null,
   "id": "8123e6c4-eaab-4834-ac2b-f44919b7df96",
   "metadata": {},
   "outputs": [],
   "source": [
    "linked_token_text = re.sub(url_matcher,'__LINK_TOKEN__',fixed_fields[4]); linked_token_text"
   ]
  }
 ],
 "metadata": {
  "kernelspec": {
   "display_name": "Python 3 (ipykernel)",
   "language": "python",
   "name": "python3"
  },
  "language_info": {
   "codemirror_mode": {
    "name": "ipython",
    "version": 3
   },
   "file_extension": ".py",
   "mimetype": "text/x-python",
   "name": "python",
   "nbconvert_exporter": "python",
   "pygments_lexer": "ipython3",
   "version": "3.9.13"
  }
 },
 "nbformat": 4,
 "nbformat_minor": 5
}
