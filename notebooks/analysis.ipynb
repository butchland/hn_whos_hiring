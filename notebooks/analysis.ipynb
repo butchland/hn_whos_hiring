{
 "cells": [
  {
   "cell_type": "code",
   "execution_count": 1,
   "id": "5eec8ded-9b25-4f90-a1d8-1859a065336d",
   "metadata": {},
   "outputs": [],
   "source": [
    "%reload_ext nbdbt.dbt_cellmagic"
   ]
  },
  {
   "cell_type": "code",
   "execution_count": 5,
   "id": "4f3d4a08-1485-451a-8e0a-2153115f5d1c",
   "metadata": {},
   "outputs": [],
   "source": [
    "%dbtconfig -p ../hn_whos_hiring"
   ]
  },
  {
   "cell_type": "code",
   "execution_count": 6,
   "id": "78bd89c9-2cb5-44e6-aa2c-817be2eba99b",
   "metadata": {},
   "outputs": [],
   "source": [
    "%%dbt -a raw_sources -n notebooks/analysis.ipynb analyses/raw_hn_source.sql\n",
    "select *\n",
    "from {{ source('public_datasets', 'full_stories') }}\n",
    "order by timestamp desc\n"
   ]
  },
  {
   "cell_type": "code",
   "execution_count": null,
   "id": "3c90c7a0-dccf-4c1e-8725-5a7e792e0fd1",
   "metadata": {},
   "outputs": [],
   "source": []
  }
 ],
 "metadata": {
  "kernelspec": {
   "display_name": "Python 3.9 (hn_whos_hiring)",
   "language": "python",
   "name": "hn_whos_hiring"
  },
  "language_info": {
   "codemirror_mode": {
    "name": "ipython",
    "version": 3
   },
   "file_extension": ".py",
   "mimetype": "text/x-python",
   "name": "python",
   "nbconvert_exporter": "python",
   "pygments_lexer": "ipython3",
   "version": "3.9.13"
  }
 },
 "nbformat": 4,
 "nbformat_minor": 5
}
