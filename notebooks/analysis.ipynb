{
 "cells": [
  {
   "cell_type": "raw",
   "id": "712d47f6-7b89-4b49-b44f-dadf4f692a4f",
   "metadata": {},
   "source": [
    "---\n",
    "title: \"Hacker News Analysis\"\n",
    "format:\n",
    "  html:\n",
    "    code-fold: false\n",
    "jupyter: python3\n",
    "---"
   ]
  },
  {
   "cell_type": "markdown",
   "id": "29fd91c2-2e7b-4454-baa1-5ce506674e8f",
   "metadata": {},
   "source": [
    "> A project to analyze hacker news stories using nbdbt"
   ]
  },
  {
   "cell_type": "markdown",
   "id": "6e579436-8e02-4ee5-9fa7-c743891aa988",
   "metadata": {},
   "source": [
    "## Analysis"
   ]
  },
  {
   "cell_type": "code",
   "execution_count": 1,
   "id": "5eec8ded-9b25-4f90-a1d8-1859a065336d",
   "metadata": {},
   "outputs": [],
   "source": [
    "#| echo: false\n",
    "%reload_ext nbdbt.dbt_cellmagic"
   ]
  },
  {
   "cell_type": "code",
   "execution_count": 2,
   "id": "4f3d4a08-1485-451a-8e0a-2153115f5d1c",
   "metadata": {},
   "outputs": [],
   "source": [
    "#| echo: false\n",
    "%dbtconfig -p ../hn_whos_hiring -n notebooks/analysis.ipynb"
   ]
  },
  {
   "cell_type": "markdown",
   "id": "bcb10b39-219a-4426-b949-e794fc63c228",
   "metadata": {},
   "source": [
    "### Raw HN Source"
   ]
  },
  {
   "cell_type": "markdown",
   "id": "41e3e3c2-73cf-4118-979b-74ca5932079e",
   "metadata": {},
   "source": [
    "> This is the raw data for all Hacker News posts\n",
    "\n",
    "It is sourced from the Google's Big Query Public Datases\n",
    "and accessible as \n",
    "```\n",
    "bigquery-public-data.hacker_news.full\n",
    "```\n",
    "\n",
    "It seems to be updated on a regular basis *(see timestamp of latest post)*."
   ]
  },
  {
   "cell_type": "code",
   "execution_count": 3,
   "id": "78bd89c9-2cb5-44e6-aa2c-817be2eba99b",
   "metadata": {},
   "outputs": [],
   "source": [
    "%%dbt -a raw_sources analyses/raw_hn_source.sql\n",
    "select *\n",
    "from {{ source('public_datasets', 'full_stories') }}\n",
    "order by timestamp desc\n"
   ]
  },
  {
   "cell_type": "code",
   "execution_count": 4,
   "id": "3c90c7a0-dccf-4c1e-8725-5a7e792e0fd1",
   "metadata": {},
   "outputs": [
    {
     "data": {
      "text/html": [
       "<div>\n",
       "<style scoped>\n",
       "    .dataframe tbody tr th:only-of-type {\n",
       "        vertical-align: middle;\n",
       "    }\n",
       "\n",
       "    .dataframe tbody tr th {\n",
       "        vertical-align: top;\n",
       "    }\n",
       "\n",
       "    .dataframe thead th {\n",
       "        text-align: right;\n",
       "    }\n",
       "</style>\n",
       "<table border=\"1\" class=\"dataframe\">\n",
       "  <thead>\n",
       "    <tr style=\"text-align: right;\">\n",
       "      <th></th>\n",
       "      <th>title</th>\n",
       "      <th>url</th>\n",
       "      <th>text</th>\n",
       "      <th>dead</th>\n",
       "      <th>by</th>\n",
       "      <th>score</th>\n",
       "      <th>time</th>\n",
       "      <th>timestamp</th>\n",
       "      <th>type</th>\n",
       "      <th>id</th>\n",
       "      <th>parent</th>\n",
       "      <th>descendants</th>\n",
       "      <th>ranking</th>\n",
       "      <th>deleted</th>\n",
       "    </tr>\n",
       "  </thead>\n",
       "  <tbody>\n",
       "    <tr>\n",
       "      <th>0</th>\n",
       "      <td>None</td>\n",
       "      <td>None</td>\n",
       "      <td>POSIX sh parameter expansion cheat sheet:&lt;p&gt;&lt;a...</td>\n",
       "      <td>None</td>\n",
       "      <td>jwilk</td>\n",
       "      <td>NaN</td>\n",
       "      <td>1656580359</td>\n",
       "      <td>2022-06-30 09:12:39+00:00</td>\n",
       "      <td>comment</td>\n",
       "      <td>31930208</td>\n",
       "      <td>31928736.0</td>\n",
       "      <td>NaN</td>\n",
       "      <td>NaN</td>\n",
       "      <td>None</td>\n",
       "    </tr>\n",
       "    <tr>\n",
       "      <th>1</th>\n",
       "      <td>None</td>\n",
       "      <td>None</td>\n",
       "      <td>That also ate a lot of small healthy business ...</td>\n",
       "      <td>None</td>\n",
       "      <td>Existenceblinks</td>\n",
       "      <td>NaN</td>\n",
       "      <td>1656580348</td>\n",
       "      <td>2022-06-30 09:12:28+00:00</td>\n",
       "      <td>comment</td>\n",
       "      <td>31930207</td>\n",
       "      <td>31929941.0</td>\n",
       "      <td>NaN</td>\n",
       "      <td>NaN</td>\n",
       "      <td>None</td>\n",
       "    </tr>\n",
       "    <tr>\n",
       "      <th>2</th>\n",
       "      <td>None</td>\n",
       "      <td>None</td>\n",
       "      <td>Does anyone actually like using JIRA? Or Confl...</td>\n",
       "      <td>None</td>\n",
       "      <td>gaff33</td>\n",
       "      <td>NaN</td>\n",
       "      <td>1656580322</td>\n",
       "      <td>2022-06-30 09:12:02+00:00</td>\n",
       "      <td>comment</td>\n",
       "      <td>31930206</td>\n",
       "      <td>31929941.0</td>\n",
       "      <td>NaN</td>\n",
       "      <td>NaN</td>\n",
       "      <td>None</td>\n",
       "    </tr>\n",
       "    <tr>\n",
       "      <th>3</th>\n",
       "      <td>None</td>\n",
       "      <td>None</td>\n",
       "      <td>Not at all is the issue. IIRC svn checkout is ...</td>\n",
       "      <td>None</td>\n",
       "      <td>masklinn</td>\n",
       "      <td>NaN</td>\n",
       "      <td>1656580321</td>\n",
       "      <td>2022-06-30 09:12:01+00:00</td>\n",
       "      <td>comment</td>\n",
       "      <td>31930205</td>\n",
       "      <td>31929148.0</td>\n",
       "      <td>NaN</td>\n",
       "      <td>NaN</td>\n",
       "      <td>None</td>\n",
       "    </tr>\n",
       "    <tr>\n",
       "      <th>4</th>\n",
       "      <td>None</td>\n",
       "      <td>None</td>\n",
       "      <td>That&amp;#x27;s because, if the chip uses 20% less...</td>\n",
       "      <td>None</td>\n",
       "      <td>tintedfireglass</td>\n",
       "      <td>NaN</td>\n",
       "      <td>1656580316</td>\n",
       "      <td>2022-06-30 09:11:56+00:00</td>\n",
       "      <td>comment</td>\n",
       "      <td>31930204</td>\n",
       "      <td>31925613.0</td>\n",
       "      <td>NaN</td>\n",
       "      <td>NaN</td>\n",
       "      <td>None</td>\n",
       "    </tr>\n",
       "  </tbody>\n",
       "</table>\n",
       "</div>"
      ],
      "text/plain": [
       "  title   url                                               text  dead  \\\n",
       "0  None  None  POSIX sh parameter expansion cheat sheet:<p><a...  None   \n",
       "1  None  None  That also ate a lot of small healthy business ...  None   \n",
       "2  None  None  Does anyone actually like using JIRA? Or Confl...  None   \n",
       "3  None  None  Not at all is the issue. IIRC svn checkout is ...  None   \n",
       "4  None  None  That&#x27;s because, if the chip uses 20% less...  None   \n",
       "\n",
       "                by  score        time                 timestamp     type  \\\n",
       "0            jwilk    NaN  1656580359 2022-06-30 09:12:39+00:00  comment   \n",
       "1  Existenceblinks    NaN  1656580348 2022-06-30 09:12:28+00:00  comment   \n",
       "2           gaff33    NaN  1656580322 2022-06-30 09:12:02+00:00  comment   \n",
       "3         masklinn    NaN  1656580321 2022-06-30 09:12:01+00:00  comment   \n",
       "4  tintedfireglass    NaN  1656580316 2022-06-30 09:11:56+00:00  comment   \n",
       "\n",
       "         id      parent  descendants  ranking deleted  \n",
       "0  31930208  31928736.0          NaN      NaN    None  \n",
       "1  31930207  31929941.0          NaN      NaN    None  \n",
       "2  31930206  31929941.0          NaN      NaN    None  \n",
       "3  31930205  31929148.0          NaN      NaN    None  \n",
       "4  31930204  31925613.0          NaN      NaN    None  "
      ]
     },
     "execution_count": 4,
     "metadata": {},
     "output_type": "execute_result"
    }
   ],
   "source": [
    "df = raw_sources.ref(10); df.head()"
   ]
  },
  {
   "cell_type": "markdown",
   "id": "d528ce9d-604a-440e-87bf-5e784b0a5191",
   "metadata": {},
   "source": [
    "The column names have some descriptions, but might need to be standardized."
   ]
  },
  {
   "cell_type": "code",
   "execution_count": 5,
   "id": "1daf05ec-d6f7-430c-8542-c259a9ddf85f",
   "metadata": {},
   "outputs": [
    {
     "data": {
      "text/plain": [
       "array(['title', 'url', 'text', 'dead', 'by', 'score', 'time', 'timestamp',\n",
       "       'type', 'id', 'parent', 'descendants', 'ranking', 'deleted'],\n",
       "      dtype=object)"
      ]
     },
     "execution_count": 5,
     "metadata": {},
     "output_type": "execute_result"
    }
   ],
   "source": [
    "df.columns.values"
   ]
  },
  {
   "cell_type": "markdown",
   "id": "edc5458f-5546-4c18-820d-84222e41acaf",
   "metadata": {},
   "source": [
    "### Exploratory Data Analysis \n",
    "> based on a sample size of 10 latest posts"
   ]
  },
  {
   "cell_type": "markdown",
   "id": "14ed7b80-120c-470b-8467-a611c17f6acd",
   "metadata": {},
   "source": [
    "* Check if time and timestamp contain the same info and one column can be eliminated"
   ]
  },
  {
   "cell_type": "code",
   "execution_count": 6,
   "id": "2e4715bc-03c9-4116-a2c8-1b2174d7f97f",
   "metadata": {},
   "outputs": [],
   "source": [
    "from datetime import datetime\n",
    "import pandas as pd"
   ]
  },
  {
   "cell_type": "code",
   "execution_count": 7,
   "id": "fdfd4695-66b5-4dd7-8d36-5215d1531a3e",
   "metadata": {},
   "outputs": [],
   "source": [
    "df['newtimestamp'] = pd.to_datetime(df['time'].astype(float), unit='s',origin='unix', utc=True)"
   ]
  },
  {
   "cell_type": "code",
   "execution_count": 8,
   "id": "c0dc299a-c92d-4e70-9a53-2de2bf9c3eab",
   "metadata": {
    "tags": []
   },
   "outputs": [
    {
     "data": {
      "text/plain": [
       "True"
      ]
     },
     "execution_count": 8,
     "metadata": {},
     "output_type": "execute_result"
    }
   ],
   "source": [
    "df[df['newtimestamp'] == df['timestamp']].any(axis=None)"
   ]
  },
  {
   "cell_type": "markdown",
   "id": "2d8c3f99-7ca5-4e96-a2fa-d86b3ff47af0",
   "metadata": {},
   "source": [
    "Looks like they are one and the same."
   ]
  },
  {
   "cell_type": "markdown",
   "id": "06d2f4fb-3362-4b95-a59c-76fdcda9b8b3",
   "metadata": {},
   "source": [
    "### EDA Questions"
   ]
  },
  {
   "cell_type": "markdown",
   "id": "3b2b9a59-ff75-452f-ac43-3d31280574ca",
   "metadata": {},
   "source": [
    "* Check total record count"
   ]
  },
  {
   "cell_type": "code",
   "execution_count": 9,
   "id": "80c2ad77-01ab-4b85-859f-1ec29b8b8152",
   "metadata": {},
   "outputs": [],
   "source": [
    "%%dbt -a tot_rec analyses/count_hn_source.sql\n",
    "select count(*) as rec_count \n",
    "from {{ source('public_datasets', 'full_stories') }}\n"
   ]
  },
  {
   "cell_type": "code",
   "execution_count": 10,
   "id": "9c522b89-f9ce-4276-9cd5-18e8fd552cf2",
   "metadata": {},
   "outputs": [],
   "source": [
    "tot_rec_df = tot_rec.ref()"
   ]
  },
  {
   "cell_type": "code",
   "execution_count": 11,
   "id": "c1d09673-c62c-412b-a0a2-17f7d9205352",
   "metadata": {},
   "outputs": [],
   "source": [
    "total_records = tot_rec_df.iloc[0].rec_count"
   ]
  },
  {
   "cell_type": "markdown",
   "id": "674f5568-ba96-4e2d-a8ae-8fd4db35f96c",
   "metadata": {},
   "source": [
    "* Check if any id, by, time, timestamp, type are null "
   ]
  },
  {
   "cell_type": "code",
   "execution_count": 12,
   "id": "1f510aec-b4af-467b-8833-1367774a86d3",
   "metadata": {},
   "outputs": [],
   "source": [
    "%%dbt -a null_field_counts analyses/null_field_counts.sql\n",
    "with hn_posts\n",
    "as (\n",
    "select\n",
    "     `by` as author,\n",
    "     * except(`by`)\n",
    "from {{ source('public_datasets', 'full_stories') }}\n",
    ")\n",
    "select \n",
    "   'id' as field, \n",
    "    count(*) as null_count,\n",
    "from hn_posts\n",
    "where id is null\n",
    "union all\n",
    "select \n",
    "   'author' as field, \n",
    "    count(*) as null_count,\n",
    "from hn_posts\n",
    "where author is null\n",
    "union all\n",
    "select \n",
    "   'time' as field, \n",
    "    count(*) as null_count,\n",
    "from hn_posts\n",
    "where time is null\n",
    "union all\n",
    "select \n",
    "   'timestamp' as field, \n",
    "    count(*) as null_count,\n",
    "from hn_posts\n",
    "where timestamp is null\n",
    "union all\n",
    "select \n",
    "   'type' as field, \n",
    "    count(*) as null_count,\n",
    "from hn_posts\n",
    "where type is null\n",
    "union all\n",
    "select \n",
    "   'dead' as field, \n",
    "    count(*) as null_count,\n",
    "from hn_posts\n",
    "where dead is null\n",
    "\n"
   ]
  },
  {
   "cell_type": "code",
   "execution_count": 13,
   "id": "0d4a6219-2e32-471e-be4b-98b7a222cce7",
   "metadata": {},
   "outputs": [],
   "source": [
    "null_df = null_field_counts.ref()"
   ]
  },
  {
   "cell_type": "code",
   "execution_count": 14,
   "id": "64b26f28-efa0-4ea6-8c43-c097d728e02a",
   "metadata": {},
   "outputs": [],
   "source": [
    "null_df['pct'] = null_df['null_count']/total_records"
   ]
  },
  {
   "cell_type": "code",
   "execution_count": 15,
   "id": "04297a4c-4abb-4999-a482-a0c45f72ff81",
   "metadata": {},
   "outputs": [
    {
     "data": {
      "text/html": [
       "<div>\n",
       "<style scoped>\n",
       "    .dataframe tbody tr th:only-of-type {\n",
       "        vertical-align: middle;\n",
       "    }\n",
       "\n",
       "    .dataframe tbody tr th {\n",
       "        vertical-align: top;\n",
       "    }\n",
       "\n",
       "    .dataframe thead th {\n",
       "        text-align: right;\n",
       "    }\n",
       "</style>\n",
       "<table border=\"1\" class=\"dataframe\">\n",
       "  <thead>\n",
       "    <tr style=\"text-align: right;\">\n",
       "      <th></th>\n",
       "      <th>field</th>\n",
       "      <th>null_count</th>\n",
       "      <th>pct</th>\n",
       "    </tr>\n",
       "  </thead>\n",
       "  <tbody>\n",
       "    <tr>\n",
       "      <th>0</th>\n",
       "      <td>id</td>\n",
       "      <td>0</td>\n",
       "      <td>0.000000</td>\n",
       "    </tr>\n",
       "    <tr>\n",
       "      <th>1</th>\n",
       "      <td>type</td>\n",
       "      <td>0</td>\n",
       "      <td>0.000000</td>\n",
       "    </tr>\n",
       "    <tr>\n",
       "      <th>2</th>\n",
       "      <td>dead</td>\n",
       "      <td>30560332</td>\n",
       "      <td>0.957098</td>\n",
       "    </tr>\n",
       "    <tr>\n",
       "      <th>3</th>\n",
       "      <td>time</td>\n",
       "      <td>26818</td>\n",
       "      <td>0.000840</td>\n",
       "    </tr>\n",
       "    <tr>\n",
       "      <th>4</th>\n",
       "      <td>timestamp</td>\n",
       "      <td>26818</td>\n",
       "      <td>0.000840</td>\n",
       "    </tr>\n",
       "    <tr>\n",
       "      <th>5</th>\n",
       "      <td>author</td>\n",
       "      <td>947682</td>\n",
       "      <td>0.029680</td>\n",
       "    </tr>\n",
       "  </tbody>\n",
       "</table>\n",
       "</div>"
      ],
      "text/plain": [
       "       field  null_count       pct\n",
       "0         id           0  0.000000\n",
       "1       type           0  0.000000\n",
       "2       dead    30560332  0.957098\n",
       "3       time       26818  0.000840\n",
       "4  timestamp       26818  0.000840\n",
       "5     author      947682  0.029680"
      ]
     },
     "execution_count": 15,
     "metadata": {},
     "output_type": "execute_result"
    }
   ],
   "source": [
    "null_df"
   ]
  },
  {
   "cell_type": "markdown",
   "id": "2bfa0db6-deaf-4c13-b206-1fd014249775",
   "metadata": {},
   "source": [
    "| So `type` and `ids` all have values, \n",
    "| but there are entries with no `time` or `timestamp` (very small, less than 0.1 percent)\n",
    "| and there are entries with no `author` (around 3 percent)\n",
    "| and 96 percent have null values for the `dead` field."
   ]
  },
  {
   "cell_type": "markdown",
   "id": "0d850ba4-5abf-4e79-8bbb-b3c85cf26bcc",
   "metadata": {},
   "source": [
    "* Check for unique values of `dead`"
   ]
  },
  {
   "cell_type": "code",
   "execution_count": 16,
   "id": "5ea277b7-758c-4faa-8470-2911544ac809",
   "metadata": {},
   "outputs": [],
   "source": [
    "%%dbt -a dead_type_counts analyses/dead_types_counts.sql\n",
    "select dead as dead_type, count(*) as dead_count\n",
    "from {{ source('public_datasets', 'full_stories') }}\n",
    "group by dead \n",
    "order by dead_count desc"
   ]
  },
  {
   "cell_type": "code",
   "execution_count": 17,
   "id": "a0015f57-653b-4ce6-a3af-e9302e471eb3",
   "metadata": {},
   "outputs": [],
   "source": [
    "dead_types_df = dead_type_counts.ref()\n",
    "dead_types_df['pct'] = dead_types_df['dead_count']/total_records"
   ]
  },
  {
   "cell_type": "code",
   "execution_count": 18,
   "id": "a7e00f5d-c907-4fec-9543-562d88a84139",
   "metadata": {},
   "outputs": [
    {
     "data": {
      "text/html": [
       "<div>\n",
       "<style scoped>\n",
       "    .dataframe tbody tr th:only-of-type {\n",
       "        vertical-align: middle;\n",
       "    }\n",
       "\n",
       "    .dataframe tbody tr th {\n",
       "        vertical-align: top;\n",
       "    }\n",
       "\n",
       "    .dataframe thead th {\n",
       "        text-align: right;\n",
       "    }\n",
       "</style>\n",
       "<table border=\"1\" class=\"dataframe\">\n",
       "  <thead>\n",
       "    <tr style=\"text-align: right;\">\n",
       "      <th></th>\n",
       "      <th>dead_type</th>\n",
       "      <th>dead_count</th>\n",
       "      <th>pct</th>\n",
       "    </tr>\n",
       "  </thead>\n",
       "  <tbody>\n",
       "    <tr>\n",
       "      <th>0</th>\n",
       "      <td>None</td>\n",
       "      <td>30560332</td>\n",
       "      <td>0.957098</td>\n",
       "    </tr>\n",
       "    <tr>\n",
       "      <th>1</th>\n",
       "      <td>True</td>\n",
       "      <td>1369875</td>\n",
       "      <td>0.042902</td>\n",
       "    </tr>\n",
       "  </tbody>\n",
       "</table>\n",
       "</div>"
      ],
      "text/plain": [
       "  dead_type  dead_count       pct\n",
       "0      None    30560332  0.957098\n",
       "1      True     1369875  0.042902"
      ]
     },
     "execution_count": 18,
     "metadata": {},
     "output_type": "execute_result"
    }
   ],
   "source": [
    "dead_types_df"
   ]
  },
  {
   "cell_type": "markdown",
   "id": "cec0c243-abea-41d8-80c3-bebdb07cd696",
   "metadata": {},
   "source": [
    "* Check for unique values of `type`  "
   ]
  },
  {
   "cell_type": "code",
   "execution_count": 19,
   "id": "225c689c-05d2-46a4-9d18-f726511a1a09",
   "metadata": {},
   "outputs": [],
   "source": [
    "%%dbt -a type_counts analyses/types_counts.sql\n",
    "select type as type, count(*) as type_count\n",
    "from {{ source('public_datasets', 'full_stories') }}\n",
    "group by type \n",
    "order by type_count desc"
   ]
  },
  {
   "cell_type": "code",
   "execution_count": 20,
   "id": "9de4696f-eb58-4527-9a3e-153fd3a74adc",
   "metadata": {},
   "outputs": [],
   "source": [
    "types_df = type_counts.ref()\n",
    "types_df['pct'] = dead_types_df['dead_count']/total_records"
   ]
  },
  {
   "cell_type": "code",
   "execution_count": 21,
   "id": "eaa2cc01-0b92-46d7-afda-52186a67356d",
   "metadata": {},
   "outputs": [
    {
     "data": {
      "text/html": [
       "<div>\n",
       "<style scoped>\n",
       "    .dataframe tbody tr th:only-of-type {\n",
       "        vertical-align: middle;\n",
       "    }\n",
       "\n",
       "    .dataframe tbody tr th {\n",
       "        vertical-align: top;\n",
       "    }\n",
       "\n",
       "    .dataframe thead th {\n",
       "        text-align: right;\n",
       "    }\n",
       "</style>\n",
       "<table border=\"1\" class=\"dataframe\">\n",
       "  <thead>\n",
       "    <tr style=\"text-align: right;\">\n",
       "      <th></th>\n",
       "      <th>type</th>\n",
       "      <th>type_count</th>\n",
       "      <th>pct</th>\n",
       "    </tr>\n",
       "  </thead>\n",
       "  <tbody>\n",
       "    <tr>\n",
       "      <th>0</th>\n",
       "      <td>comment</td>\n",
       "      <td>27351834</td>\n",
       "      <td>0.957098</td>\n",
       "    </tr>\n",
       "    <tr>\n",
       "      <th>1</th>\n",
       "      <td>story</td>\n",
       "      <td>4547262</td>\n",
       "      <td>0.042902</td>\n",
       "    </tr>\n",
       "    <tr>\n",
       "      <th>2</th>\n",
       "      <td>job</td>\n",
       "      <td>15502</td>\n",
       "      <td>NaN</td>\n",
       "    </tr>\n",
       "    <tr>\n",
       "      <th>3</th>\n",
       "      <td>pollopt</td>\n",
       "      <td>13633</td>\n",
       "      <td>NaN</td>\n",
       "    </tr>\n",
       "    <tr>\n",
       "      <th>4</th>\n",
       "      <td>poll</td>\n",
       "      <td>1976</td>\n",
       "      <td>NaN</td>\n",
       "    </tr>\n",
       "  </tbody>\n",
       "</table>\n",
       "</div>"
      ],
      "text/plain": [
       "      type  type_count       pct\n",
       "0  comment    27351834  0.957098\n",
       "1    story     4547262  0.042902\n",
       "2      job       15502       NaN\n",
       "3  pollopt       13633       NaN\n",
       "4     poll        1976       NaN"
      ]
     },
     "execution_count": 21,
     "metadata": {},
     "output_type": "execute_result"
    }
   ],
   "source": [
    "types_df"
   ]
  },
  {
   "cell_type": "markdown",
   "id": "f036a9f2-1cad-4ec9-ab7e-e65d986d4a29",
   "metadata": {},
   "source": [
    "## Standardization\n",
    "> Standardize column names and types so downstream transformations don't have to deal with that"
   ]
  },
  {
   "cell_type": "code",
   "execution_count": 22,
   "id": "9a717cc8-ba5e-4e5d-89c0-e212b8d95926",
   "metadata": {},
   "outputs": [],
   "source": [
    "%%dbt -a hn_posts -n notebooks/analysis.ipynb models/hn_posts.sql\n",
    "select \n",
    "  id as post_id, \n",
    "  title,\n",
    "  url,\n",
    "  text,\n",
    "  `by` as author,\n",
    "  time as a\n",
    "   \n",
    "from {{ source('public_datasets', 'full_stories') }}\n",
    "order by timestamp desc\n"
   ]
  }
 ],
 "metadata": {
  "kernelspec": {
   "display_name": "Python 3.9 (hn_whos_hiring)",
   "language": "python",
   "name": "hn_whos_hiring"
  },
  "language_info": {
   "codemirror_mode": {
    "name": "ipython",
    "version": 3
   },
   "file_extension": ".py",
   "mimetype": "text/x-python",
   "name": "python",
   "nbconvert_exporter": "python",
   "pygments_lexer": "ipython3",
   "version": "3.9.13"
  }
 },
 "nbformat": 4,
 "nbformat_minor": 5
}
