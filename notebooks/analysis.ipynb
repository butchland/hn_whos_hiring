{
 "cells": [
  {
   "cell_type": "raw",
   "id": "712d47f6-7b89-4b49-b44f-dadf4f692a4f",
   "metadata": {},
   "source": [
    "---\n",
    "title: \"Hacker News Analysis\"\n",
    "format:\n",
    "  html:\n",
    "    code-fold: false\n",
    "jupyter: python3\n",
    "---"
   ]
  },
  {
   "cell_type": "markdown",
   "id": "29fd91c2-2e7b-4454-baa1-5ce506674e8f",
   "metadata": {},
   "source": [
    "> A project to analyze hacker news stories using nbdbt"
   ]
  },
  {
   "cell_type": "markdown",
   "id": "6e579436-8e02-4ee5-9fa7-c743891aa988",
   "metadata": {},
   "source": [
    "## Analysis"
   ]
  },
  {
   "cell_type": "code",
   "execution_count": 1,
   "id": "5eec8ded-9b25-4f90-a1d8-1859a065336d",
   "metadata": {},
   "outputs": [],
   "source": [
    "#| echo: false\n",
    "%reload_ext nbdbt.dbt_cellmagic"
   ]
  },
  {
   "cell_type": "code",
   "execution_count": 2,
   "id": "4f3d4a08-1485-451a-8e0a-2153115f5d1c",
   "metadata": {},
   "outputs": [],
   "source": [
    "#| echo: false\n",
    "%dbtconfig -p ../hn_whos_hiring -n notebooks/analysis.ipynb"
   ]
  },
  {
   "cell_type": "markdown",
   "id": "bcb10b39-219a-4426-b949-e794fc63c228",
   "metadata": {},
   "source": [
    "### Raw HN Source"
   ]
  },
  {
   "cell_type": "markdown",
   "id": "41e3e3c2-73cf-4118-979b-74ca5932079e",
   "metadata": {},
   "source": [
    "> This is the raw data for all Hacker News posts\n",
    "\n",
    "It is sourced from the Google's Big Query Public Datases\n",
    "and accessible as \n",
    "```\n",
    "bigquery-public-data.hacker_news.full\n",
    "```\n",
    "\n",
    "It seems to be updated on a regular basis *(see timestamp of latest post)*."
   ]
  },
  {
   "cell_type": "code",
   "execution_count": 3,
   "id": "78bd89c9-2cb5-44e6-aa2c-817be2eba99b",
   "metadata": {},
   "outputs": [],
   "source": [
    "%%dbt -a raw_sources analyses/raw_hn_source.sql\n",
    "select *\n",
    "from {{ source('public_datasets', 'full_stories') }}\n",
    "order by timestamp desc\n"
   ]
  },
  {
   "cell_type": "code",
   "execution_count": 4,
   "id": "3c90c7a0-dccf-4c1e-8725-5a7e792e0fd1",
   "metadata": {},
   "outputs": [
    {
     "data": {
      "text/html": [
       "<div>\n",
       "<style scoped>\n",
       "    .dataframe tbody tr th:only-of-type {\n",
       "        vertical-align: middle;\n",
       "    }\n",
       "\n",
       "    .dataframe tbody tr th {\n",
       "        vertical-align: top;\n",
       "    }\n",
       "\n",
       "    .dataframe thead th {\n",
       "        text-align: right;\n",
       "    }\n",
       "</style>\n",
       "<table border=\"1\" class=\"dataframe\">\n",
       "  <thead>\n",
       "    <tr style=\"text-align: right;\">\n",
       "      <th></th>\n",
       "      <th>title</th>\n",
       "      <th>url</th>\n",
       "      <th>text</th>\n",
       "      <th>dead</th>\n",
       "      <th>by</th>\n",
       "      <th>score</th>\n",
       "      <th>time</th>\n",
       "      <th>timestamp</th>\n",
       "      <th>type</th>\n",
       "      <th>id</th>\n",
       "      <th>parent</th>\n",
       "      <th>descendants</th>\n",
       "      <th>ranking</th>\n",
       "      <th>deleted</th>\n",
       "    </tr>\n",
       "  </thead>\n",
       "  <tbody>\n",
       "    <tr>\n",
       "      <th>0</th>\n",
       "      <td>None</td>\n",
       "      <td>None</td>\n",
       "      <td>POSIX sh parameter expansion cheat sheet:&lt;p&gt;&lt;a...</td>\n",
       "      <td>None</td>\n",
       "      <td>jwilk</td>\n",
       "      <td>NaN</td>\n",
       "      <td>1656580359</td>\n",
       "      <td>2022-06-30 09:12:39+00:00</td>\n",
       "      <td>comment</td>\n",
       "      <td>31930208</td>\n",
       "      <td>31928736.0</td>\n",
       "      <td>NaN</td>\n",
       "      <td>NaN</td>\n",
       "      <td>None</td>\n",
       "    </tr>\n",
       "    <tr>\n",
       "      <th>1</th>\n",
       "      <td>None</td>\n",
       "      <td>None</td>\n",
       "      <td>That also ate a lot of small healthy business ...</td>\n",
       "      <td>None</td>\n",
       "      <td>Existenceblinks</td>\n",
       "      <td>NaN</td>\n",
       "      <td>1656580348</td>\n",
       "      <td>2022-06-30 09:12:28+00:00</td>\n",
       "      <td>comment</td>\n",
       "      <td>31930207</td>\n",
       "      <td>31929941.0</td>\n",
       "      <td>NaN</td>\n",
       "      <td>NaN</td>\n",
       "      <td>None</td>\n",
       "    </tr>\n",
       "    <tr>\n",
       "      <th>2</th>\n",
       "      <td>None</td>\n",
       "      <td>None</td>\n",
       "      <td>Does anyone actually like using JIRA? Or Confl...</td>\n",
       "      <td>None</td>\n",
       "      <td>gaff33</td>\n",
       "      <td>NaN</td>\n",
       "      <td>1656580322</td>\n",
       "      <td>2022-06-30 09:12:02+00:00</td>\n",
       "      <td>comment</td>\n",
       "      <td>31930206</td>\n",
       "      <td>31929941.0</td>\n",
       "      <td>NaN</td>\n",
       "      <td>NaN</td>\n",
       "      <td>None</td>\n",
       "    </tr>\n",
       "    <tr>\n",
       "      <th>3</th>\n",
       "      <td>None</td>\n",
       "      <td>None</td>\n",
       "      <td>Not at all is the issue. IIRC svn checkout is ...</td>\n",
       "      <td>None</td>\n",
       "      <td>masklinn</td>\n",
       "      <td>NaN</td>\n",
       "      <td>1656580321</td>\n",
       "      <td>2022-06-30 09:12:01+00:00</td>\n",
       "      <td>comment</td>\n",
       "      <td>31930205</td>\n",
       "      <td>31929148.0</td>\n",
       "      <td>NaN</td>\n",
       "      <td>NaN</td>\n",
       "      <td>None</td>\n",
       "    </tr>\n",
       "    <tr>\n",
       "      <th>4</th>\n",
       "      <td>None</td>\n",
       "      <td>None</td>\n",
       "      <td>That&amp;#x27;s because, if the chip uses 20% less...</td>\n",
       "      <td>None</td>\n",
       "      <td>tintedfireglass</td>\n",
       "      <td>NaN</td>\n",
       "      <td>1656580316</td>\n",
       "      <td>2022-06-30 09:11:56+00:00</td>\n",
       "      <td>comment</td>\n",
       "      <td>31930204</td>\n",
       "      <td>31925613.0</td>\n",
       "      <td>NaN</td>\n",
       "      <td>NaN</td>\n",
       "      <td>None</td>\n",
       "    </tr>\n",
       "  </tbody>\n",
       "</table>\n",
       "</div>"
      ],
      "text/plain": [
       "  title   url                                               text  dead  \\\n",
       "0  None  None  POSIX sh parameter expansion cheat sheet:<p><a...  None   \n",
       "1  None  None  That also ate a lot of small healthy business ...  None   \n",
       "2  None  None  Does anyone actually like using JIRA? Or Confl...  None   \n",
       "3  None  None  Not at all is the issue. IIRC svn checkout is ...  None   \n",
       "4  None  None  That&#x27;s because, if the chip uses 20% less...  None   \n",
       "\n",
       "                by  score        time                 timestamp     type  \\\n",
       "0            jwilk    NaN  1656580359 2022-06-30 09:12:39+00:00  comment   \n",
       "1  Existenceblinks    NaN  1656580348 2022-06-30 09:12:28+00:00  comment   \n",
       "2           gaff33    NaN  1656580322 2022-06-30 09:12:02+00:00  comment   \n",
       "3         masklinn    NaN  1656580321 2022-06-30 09:12:01+00:00  comment   \n",
       "4  tintedfireglass    NaN  1656580316 2022-06-30 09:11:56+00:00  comment   \n",
       "\n",
       "         id      parent  descendants  ranking deleted  \n",
       "0  31930208  31928736.0          NaN      NaN    None  \n",
       "1  31930207  31929941.0          NaN      NaN    None  \n",
       "2  31930206  31929941.0          NaN      NaN    None  \n",
       "3  31930205  31929148.0          NaN      NaN    None  \n",
       "4  31930204  31925613.0          NaN      NaN    None  "
      ]
     },
     "execution_count": 4,
     "metadata": {},
     "output_type": "execute_result"
    }
   ],
   "source": [
    "df = raw_sources.ref(10); df.head()"
   ]
  },
  {
   "cell_type": "markdown",
   "id": "d528ce9d-604a-440e-87bf-5e784b0a5191",
   "metadata": {},
   "source": [
    "The column names have some descriptions, but might need to be standardized."
   ]
  },
  {
   "cell_type": "code",
   "execution_count": 5,
   "id": "1daf05ec-d6f7-430c-8542-c259a9ddf85f",
   "metadata": {},
   "outputs": [
    {
     "data": {
      "text/plain": [
       "array(['title', 'url', 'text', 'dead', 'by', 'score', 'time', 'timestamp',\n",
       "       'type', 'id', 'parent', 'descendants', 'ranking', 'deleted'],\n",
       "      dtype=object)"
      ]
     },
     "execution_count": 5,
     "metadata": {},
     "output_type": "execute_result"
    }
   ],
   "source": [
    "df.columns.values"
   ]
  },
  {
   "cell_type": "markdown",
   "id": "edc5458f-5546-4c18-820d-84222e41acaf",
   "metadata": {},
   "source": [
    "### Exploratory Data Analysis \n",
    "> based on a sample size of 10 latest posts"
   ]
  },
  {
   "cell_type": "markdown",
   "id": "14ed7b80-120c-470b-8467-a611c17f6acd",
   "metadata": {},
   "source": [
    "* Check if time and timestamp contain the same info and one column can be eliminated"
   ]
  },
  {
   "cell_type": "code",
   "execution_count": 6,
   "id": "2e4715bc-03c9-4116-a2c8-1b2174d7f97f",
   "metadata": {},
   "outputs": [],
   "source": [
    "from datetime import datetime\n",
    "import pandas as pd"
   ]
  },
  {
   "cell_type": "code",
   "execution_count": 7,
   "id": "fdfd4695-66b5-4dd7-8d36-5215d1531a3e",
   "metadata": {},
   "outputs": [],
   "source": [
    "df['newtimestamp'] = pd.to_datetime(df['time'].astype(float), unit='s',origin='unix', utc=True)"
   ]
  },
  {
   "cell_type": "code",
   "execution_count": 8,
   "id": "c0dc299a-c92d-4e70-9a53-2de2bf9c3eab",
   "metadata": {
    "tags": []
   },
   "outputs": [
    {
     "data": {
      "text/plain": [
       "True"
      ]
     },
     "execution_count": 8,
     "metadata": {},
     "output_type": "execute_result"
    }
   ],
   "source": [
    "df[df['newtimestamp'] == df['timestamp']].any(axis=None)"
   ]
  },
  {
   "cell_type": "markdown",
   "id": "2d8c3f99-7ca5-4e96-a2fa-d86b3ff47af0",
   "metadata": {},
   "source": [
    "Looks like they are one and the same."
   ]
  },
  {
   "cell_type": "markdown",
   "id": "06d2f4fb-3362-4b95-a59c-76fdcda9b8b3",
   "metadata": {},
   "source": [
    "### EDA Planned Questions"
   ]
  },
  {
   "cell_type": "markdown",
   "id": "22e7b244-874e-4558-9739-6e99c11f9eab",
   "metadata": {},
   "source": [
    "* Check if any id, by, time, timestamp, type are null "
   ]
  },
  {
   "cell_type": "markdown",
   "id": "0d850ba4-5abf-4e79-8bbb-b3c85cf26bcc",
   "metadata": {},
   "source": [
    "* Check for unique values of `dead`"
   ]
  },
  {
   "cell_type": "markdown",
   "id": "cec0c243-abea-41d8-80c3-bebdb07cd696",
   "metadata": {},
   "source": [
    "* Check for unique values of `type`  "
   ]
  },
  {
   "cell_type": "markdown",
   "id": "f036a9f2-1cad-4ec9-ab7e-e65d986d4a29",
   "metadata": {},
   "source": [
    "## Standardization\n",
    "> Standardize column names and types so downstream transformations don't have to deal with that"
   ]
  },
  {
   "cell_type": "code",
   "execution_count": 9,
   "id": "9a717cc8-ba5e-4e5d-89c0-e212b8d95926",
   "metadata": {},
   "outputs": [],
   "source": [
    "%%dbt -a hn_posts -n notebooks/analysis.ipynb models/hn_posts.sql\n",
    "select \n",
    "  id as post_id, \n",
    "  title,\n",
    "  url,\n",
    "  text,\n",
    "  `by` as author_id,\n",
    "  time as pub_data\n",
    "   \n",
    "from {{ source('public_datasets', 'full_stories') }}\n",
    "order by timestamp desc\n"
   ]
  }
 ],
 "metadata": {
  "kernelspec": {
   "display_name": "Python 3.9 (hn_whos_hiring)",
   "language": "python",
   "name": "hn_whos_hiring"
  },
  "language_info": {
   "codemirror_mode": {
    "name": "ipython",
    "version": 3
   },
   "file_extension": ".py",
   "mimetype": "text/x-python",
   "name": "python",
   "nbconvert_exporter": "python",
   "pygments_lexer": "ipython3",
   "version": "3.9.13"
  }
 },
 "nbformat": 4,
 "nbformat_minor": 5
}
