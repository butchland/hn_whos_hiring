{
 "cells": [
  {
   "cell_type": "raw",
   "id": "712d47f6-7b89-4b49-b44f-dadf4f692a4f",
   "metadata": {},
   "source": [
    "---\n",
    "title: \"Hacker News Analysis\"\n",
    "format:\n",
    "  html:\n",
    "    code-fold: false\n",
    "jupyter: python3\n",
    "---"
   ]
  },
  {
   "cell_type": "markdown",
   "id": "29fd91c2-2e7b-4454-baa1-5ce506674e8f",
   "metadata": {},
   "source": [
    "> A project to analyze hacker news stories using nbdbt"
   ]
  },
  {
   "cell_type": "markdown",
   "id": "6e579436-8e02-4ee5-9fa7-c743891aa988",
   "metadata": {},
   "source": [
    "## Analysis"
   ]
  },
  {
   "cell_type": "code",
   "execution_count": 1,
   "id": "5eec8ded-9b25-4f90-a1d8-1859a065336d",
   "metadata": {},
   "outputs": [],
   "source": [
    "%reload_ext nbdbt.dbt_cellmagic"
   ]
  },
  {
   "cell_type": "code",
   "execution_count": 2,
   "id": "4f3d4a08-1485-451a-8e0a-2153115f5d1c",
   "metadata": {},
   "outputs": [],
   "source": [
    "%dbtconfig -p ../hn_whos_hiring"
   ]
  },
  {
   "cell_type": "code",
   "execution_count": 3,
   "id": "78bd89c9-2cb5-44e6-aa2c-817be2eba99b",
   "metadata": {},
   "outputs": [],
   "source": [
    "%%dbt -a raw_sources -n notebooks/analysis.ipynb analyses/raw_hn_source.sql\n",
    "select *\n",
    "from {{ source('public_datasets', 'full_stories') }}\n",
    "order by timestamp desc\n"
   ]
  },
  {
   "cell_type": "code",
   "execution_count": null,
   "id": "3c90c7a0-dccf-4c1e-8725-5a7e792e0fd1",
   "metadata": {},
   "outputs": [],
   "source": []
  }
 ],
 "metadata": {
  "kernelspec": {
   "display_name": "Python 3.9 (hn_whos_hiring)",
   "language": "python",
   "name": "hn_whos_hiring"
  },
  "language_info": {
   "codemirror_mode": {
    "name": "ipython",
    "version": 3
   },
   "file_extension": ".py",
   "mimetype": "text/x-python",
   "name": "python",
   "nbconvert_exporter": "python",
   "pygments_lexer": "ipython3",
   "version": "3.9.13"
  }
 },
 "nbformat": 4,
 "nbformat_minor": 5
}
